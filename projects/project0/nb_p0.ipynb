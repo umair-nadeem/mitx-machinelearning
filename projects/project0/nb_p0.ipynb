{
 "cells": [
  {
   "cell_type": "code",
   "execution_count": 1,
   "metadata": {},
   "outputs": [],
   "source": [
    "import numpy as np"
   ]
  },
  {
   "cell_type": "code",
   "execution_count": 2,
   "metadata": {},
   "outputs": [
    {
     "name": "stdout",
     "output_type": "stream",
     "text": [
      "[[0.63193978]\n",
      " [0.30043201]]\n",
      "[[0.8424255 ]\n",
      " [0.74779215]]\n",
      "[[0.75702288]]\n"
     ]
    },
    {
     "data": {
      "text/plain": [
       "array([[0.63932003]])"
      ]
     },
     "execution_count": 2,
     "metadata": {},
     "output_type": "execute_result"
    }
   ],
   "source": [
    "inputs = np.random.rand(2, 1)\n",
    "weights = np.random.rand(2, 1)\n",
    "print(weights)\n",
    "print(inputs)\n",
    "output = np.matmul(weights.transpose(), inputs)\n",
    "print(output)\n",
    "np.tanh(output)"
   ]
  },
  {
   "cell_type": "code",
   "execution_count": 3,
   "metadata": {},
   "outputs": [],
   "source": [
    "def scalar_function(x, y):\n",
    "    \"\"\"\n",
    "    Returns the f(x,y) defined in the problem statement.\n",
    "    \"\"\"\n",
    "    if x <= y:\n",
    "        return x*y\n",
    "    else:\n",
    "        return x/y"
   ]
  },
  {
   "cell_type": "code",
   "execution_count": 4,
   "metadata": {},
   "outputs": [
    {
     "data": {
      "text/plain": [
       "array([[-15],\n",
       "       [-12],\n",
       "       [ -9],\n",
       "       [ -6],\n",
       "       [ -3],\n",
       "       [  0],\n",
       "       [  3],\n",
       "       [  6],\n",
       "       [  9],\n",
       "       [  1],\n",
       "       [  1]])"
      ]
     },
     "execution_count": 4,
     "metadata": {},
     "output_type": "execute_result"
    }
   ],
   "source": [
    "vfunc = np.vectorize(scalar_function)\n",
    "x = np.arange(-5, 6).reshape(-1, 1)\n",
    "y = 3\n",
    "vfunc(x, y)"
   ]
  },
  {
   "cell_type": "code",
   "execution_count": 5,
   "metadata": {},
   "outputs": [
    {
     "name": "stdout",
     "output_type": "stream",
     "text": [
      "0\n",
      "1\n",
      "2\n"
     ]
    },
    {
     "data": {
      "text/plain": [
       "0"
      ]
     },
     "execution_count": 5,
     "metadata": {},
     "output_type": "execute_result"
    }
   ],
   "source": [
    "metrics = []\n",
    "def build_lambda(i):\n",
    "  return lambda x: x+i\n",
    "\n",
    "for i in range(3):\n",
    "   print(i)\n",
    "   metrics.append(build_lambda(i))\n",
    "   \n",
    "#     metrics.append(lambda x: x+i)\n",
    "metrics[0](0)"
   ]
  },
  {
   "cell_type": "code",
   "execution_count": 10,
   "metadata": {},
   "outputs": [
    {
     "name": "stdout",
     "output_type": "stream",
     "text": [
      "[3, 5, 11, 13, 18, 19, 21]\n"
     ]
    },
    {
     "data": {
      "text/plain": [
       "12.857142857142858"
      ]
     },
     "execution_count": 10,
     "metadata": {},
     "output_type": "execute_result"
    }
   ],
   "source": [
    "num_list = [21,13,19,3,11,5,18]\n",
    "num_list.sort()\n",
    "print(num_list)\n",
    "num_list[len(num_list) // 2] \n",
    "np.mean(num_list)\n"
   ]
  },
  {
   "cell_type": "code",
   "execution_count": 17,
   "metadata": {},
   "outputs": [
    {
     "data": {
      "text/plain": [
       "dict_keys(['fruit', 'count', 'price'])"
      ]
     },
     "execution_count": 17,
     "metadata": {},
     "output_type": "execute_result"
    }
   ],
   "source": [
    "fruit_info = { 'fruit': 'apple', 'count': 2, 'price': 3.5 }\n",
    "fruit_info.keys() "
   ]
  },
  {
   "cell_type": "code",
   "execution_count": 22,
   "metadata": {},
   "outputs": [
    {
     "name": "stdout",
     "output_type": "stream",
     "text": [
      "[1, 3, 4, 5]\n"
     ]
    }
   ],
   "source": [
    "num_list = [1,2,3,4,5]\n",
    "num_list.remove(2)\n",
    "print(num_list) \n"
   ]
  }
 ],
 "metadata": {
  "interpreter": {
   "hash": "575595c977dafeca6cc0450d2fdc0047855a9073578f10dd451b1a518ecf8f42"
  },
  "kernelspec": {
   "display_name": "Python 3.9.7 ('env_full')",
   "language": "python",
   "name": "python3"
  },
  "language_info": {
   "codemirror_mode": {
    "name": "ipython",
    "version": 3
   },
   "file_extension": ".py",
   "mimetype": "text/x-python",
   "name": "python",
   "nbconvert_exporter": "python",
   "pygments_lexer": "ipython3",
   "version": "3.9.7"
  },
  "orig_nbformat": 4
 },
 "nbformat": 4,
 "nbformat_minor": 2
}
