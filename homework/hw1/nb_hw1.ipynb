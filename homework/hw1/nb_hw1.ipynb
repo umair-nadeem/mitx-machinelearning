{
 "cells": [
  {
   "cell_type": "code",
   "execution_count": 14,
   "metadata": {},
   "outputs": [],
   "source": [
    "import numpy as np"
   ]
  },
  {
   "cell_type": "code",
   "execution_count": 15,
   "metadata": {},
   "outputs": [
    {
     "name": "stdout",
     "output_type": "stream",
     "text": [
      "x:  [-4  2]  theta:  [0 0]  theta0:  0\n",
      "thetax:  0  thetax+theta0:  0  pred:  0\n",
      "\t\t\tmistakes:  1\n",
      "x:  [-2  1]  theta:  [-4  2]  theta0:  1\n",
      "thetax:  10  thetax+theta0:  11  pred:  11\n",
      "x:  [-1 -1]  theta:  [-4  2]  theta0:  1\n",
      "thetax:  2  thetax+theta0:  3  pred:  -3\n",
      "\t\t\tmistakes:  2\n",
      "x:  [2 2]  theta:  [-3  3]  theta0:  0\n",
      "thetax:  0  thetax+theta0:  0  pred:  0\n",
      "\t\t\tmistakes:  3\n",
      "x:  [ 1 -2]  theta:  [-5  1]  theta0:  -1\n",
      "thetax:  -7  thetax+theta0:  -8  pred:  8\n",
      "x:  [-4  2]  theta:  [-5  1]  theta0:  -1\n",
      "thetax:  22  thetax+theta0:  21  pred:  21\n",
      "x:  [-2  1]  theta:  [-5  1]  theta0:  -1\n",
      "thetax:  11  thetax+theta0:  10  pred:  10\n",
      "x:  [-1 -1]  theta:  [-5  1]  theta0:  -1\n",
      "thetax:  4  thetax+theta0:  3  pred:  -3\n",
      "\t\t\tmistakes:  4\n",
      "x:  [2 2]  theta:  [-4  2]  theta0:  -2\n",
      "thetax:  -4  thetax+theta0:  -6  pred:  6\n",
      "x:  [ 1 -2]  theta:  [-4  2]  theta0:  -2\n",
      "thetax:  -8  thetax+theta0:  -10  pred:  10\n"
     ]
    }
   ],
   "source": [
    "\"\"\"percepttron with offset\"\"\"\n",
    "def update_params(x, y, theta, theta0):\n",
    "    theta = theta + x*y\n",
    "    theta0 = theta0 + y\n",
    "    return theta, theta0\n",
    "\n",
    "theta = np.array([0, 0])\n",
    "theta0 = 0\n",
    "x = np.array([[-4, 2], [-2, 1], [-1, -1], [2, 2], [1, -2]])\n",
    "y = np.array([1, 1, -1, -1, -1])\n",
    "mistakes = 0\n",
    "\n",
    "for i in range(0, 2):\n",
    "    for ind in range(0, 5):\n",
    "        print(\"x: \", x[ind], \" theta: \", theta, \" theta0: \", theta0)\n",
    "        mul_res = np.matmul(theta, x[ind])\n",
    "        add_res = mul_res + theta0\n",
    "        res = add_res * y[ind]\n",
    "        print(\"thetax: \", mul_res, \" thetax+theta0: \", add_res, \" pred: \", res)\n",
    "        if res <= 0:\n",
    "            theta, theta0 = update_params(x[ind], y[ind], theta, theta0)\n",
    "            mistakes += 1\n",
    "            print(\"\\t\\t\\tmistakes: \", mistakes)\n",
    "        else:\n",
    "            continue\n",
    "\n",
    "        \n"
   ]
  },
  {
   "cell_type": "code",
   "execution_count": 16,
   "metadata": {},
   "outputs": [
    {
     "name": "stdout",
     "output_type": "stream",
     "text": [
      "x:  [-1  0  0]  theta:  [0 0 0]\n",
      "thetax:  0  pred:  0\n",
      "\t\t\tmistakes:  1\n",
      "x:  [0 1 0]  theta:  [-1  0  0]\n",
      "thetax:  0  pred:  0\n",
      "\t\t\tmistakes:  2\n",
      "x:  [ 0  0 -1]  theta:  [-1  1  0]\n",
      "thetax:  0  pred:  0\n",
      "\t\t\tmistakes:  3\n",
      "x:  [-1  0  0]  theta:  [-1  1 -1]\n",
      "thetax:  1  pred:  1\n",
      "x:  [0 1 0]  theta:  [-1  1 -1]\n",
      "thetax:  1  pred:  1\n",
      "x:  [ 0  0 -1]  theta:  [-1  1 -1]\n",
      "thetax:  1  pred:  1\n",
      "x:  [-1  0  0]  theta:  [-1  1 -1]\n",
      "thetax:  1  pred:  1\n",
      "x:  [0 1 0]  theta:  [-1  1 -1]\n",
      "thetax:  1  pred:  1\n",
      "x:  [ 0  0 -1]  theta:  [-1  1 -1]\n",
      "thetax:  1  pred:  1\n",
      "x:  [-1  0  0]  theta:  [-1  1 -1]\n",
      "thetax:  1  pred:  1\n",
      "x:  [0 1 0]  theta:  [-1  1 -1]\n",
      "thetax:  1  pred:  1\n",
      "x:  [ 0  0 -1]  theta:  [-1  1 -1]\n",
      "thetax:  1  pred:  1\n",
      "x:  [-1  0  0]  theta:  [-1  1 -1]\n",
      "thetax:  1  pred:  1\n",
      "x:  [0 1 0]  theta:  [-1  1 -1]\n",
      "thetax:  1  pred:  1\n",
      "x:  [ 0  0 -1]  theta:  [-1  1 -1]\n",
      "thetax:  1  pred:  1\n"
     ]
    }
   ],
   "source": [
    "\"\"\"Q6. perceptron without offset. x*theta=0 -> mistake\"\"\"\n",
    "def update_params(x, y, theta):\n",
    "    theta = theta + x*y\n",
    "    return theta\n",
    "\n",
    "x = np.array([[-1, 0, 0], [0, 1, 0], [0, 0, -1]])\n",
    "y = np.array([1, 1, 1])\n",
    "theta = np.array([0, 0, 0])\n",
    "mistakes = 0\n",
    "\n",
    "for i in range(0, 5):\n",
    "    for ind in range(0, len(y)):\n",
    "        print(\"x: \", x[ind], \" theta: \", theta)\n",
    "        mul_res = np.matmul(theta, x[ind])\n",
    "        res = mul_res * y[ind]\n",
    "        print(\"thetax: \", mul_res, \" pred: \", res)\n",
    "        if res == 0:\n",
    "            theta = update_params(x[ind], y[ind], theta)\n",
    "            mistakes += 1\n",
    "            print(\"\\t\\t\\tmistakes: \", mistakes)\n",
    "        else:\n",
    "            continue\n",
    "\n",
    "        "
   ]
  },
  {
   "cell_type": "code",
   "execution_count": 17,
   "metadata": {},
   "outputs": [],
   "source": [
    "import random\n",
    "def get_order(n_samples):\n",
    "    try:\n",
    "        with open(str(n_samples) + '.txt') as fp:\n",
    "            line = fp.readline()\n",
    "            return list(map(int, line.split(',')))\n",
    "    except FileNotFoundError:\n",
    "        random.seed(1)\n",
    "        indices = list(range(n_samples))\n",
    "        random.shuffle(indices)\n",
    "        return indices\n",
    "def perceptron_single_step_update(\n",
    "        feature_vector,\n",
    "        label,\n",
    "        current_theta,\n",
    "        current_theta_0):\n",
    "    mul_res = np.matmul(current_theta, feature_vector)\n",
    "    add_res = mul_res + current_theta_0\n",
    "    if abs(add_res) < 0.0001:\n",
    "        if label == 1:\n",
    "            add_res = -1\n",
    "        else:\n",
    "            add_res = 1\n",
    "\n",
    "    if add_res > 0:\n",
    "        res = 1\n",
    "    else:\n",
    "        res = -1\n",
    "    loss = 0 if (res == label) else 1\n",
    "    if loss == 1:\n",
    "        current_theta = current_theta + feature_vector*label\n",
    "        current_theta_0 = current_theta_0 + label\n",
    "\n",
    "    return current_theta, current_theta_0\n"
   ]
  },
  {
   "cell_type": "code",
   "execution_count": 18,
   "metadata": {},
   "outputs": [
    {
     "name": "stdout",
     "output_type": "stream",
     "text": [
      "4\n"
     ]
    }
   ],
   "source": [
    "theta = np.array([1, 2, -3, -5, 5])\n",
    "\n",
    "for i in range(5):\n",
    "    pass\n",
    "print(i)"
   ]
  },
  {
   "cell_type": "code",
   "execution_count": 19,
   "metadata": {},
   "outputs": [],
   "source": [
    "from string import punctuation, digits\n",
    "def extract_words(input_string):\n",
    "    \"\"\"\n",
    "    Helper function for bag_of_words()\n",
    "    Inputs a text string\n",
    "    Returns a list of lowercase words in the string.\n",
    "    Punctuation and digits are separated out into their own words.\n",
    "    \"\"\"\n",
    "    for c in punctuation + digits:\n",
    "        input_string = input_string.replace(c, ' ' + c + ' ')\n",
    "\n",
    "    return input_string.lower().split()"
   ]
  },
  {
   "cell_type": "code",
   "execution_count": 20,
   "metadata": {},
   "outputs": [
    {
     "data": {
      "text/plain": [
       "['it', 'was', 'a', 'rzy', '!', 'night']"
      ]
     },
     "execution_count": 20,
     "metadata": {},
     "output_type": "execute_result"
    }
   ],
   "source": [
    "extract_words(\"it was a rzy! night\")"
   ]
  },
  {
   "cell_type": "code",
   "execution_count": 27,
   "metadata": {},
   "outputs": [
    {
     "data": {
      "text/plain": [
       "array([0., 1., 2., 3., 4.])"
      ]
     },
     "execution_count": 27,
     "metadata": {},
     "output_type": "execute_result"
    }
   ],
   "source": [
    "res = np.array([])\n",
    "\n",
    "for i in range(5):\n",
    "    res = np.append(res, i)\n",
    "    i += 1\n",
    "res"
   ]
  }
 ],
 "metadata": {
  "interpreter": {
   "hash": "4d081806946235d1ed6f32dd35cca0c047debfd4b08edba93540f9a81136b23b"
  },
  "kernelspec": {
   "display_name": "Python 3.9.12 ('env_full')",
   "language": "python",
   "name": "python3"
  },
  "language_info": {
   "codemirror_mode": {
    "name": "ipython",
    "version": 3
   },
   "file_extension": ".py",
   "mimetype": "text/x-python",
   "name": "python",
   "nbconvert_exporter": "python",
   "pygments_lexer": "ipython3",
   "version": "3.9.12"
  },
  "orig_nbformat": 4
 },
 "nbformat": 4,
 "nbformat_minor": 2
}
